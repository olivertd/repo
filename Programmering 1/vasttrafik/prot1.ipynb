{
 "metadata": {
  "language_info": {
   "codemirror_mode": {
    "name": "ipython",
    "version": 3
   },
   "file_extension": ".py",
   "mimetype": "text/x-python",
   "name": "python",
   "nbconvert_exporter": "python",
   "pygments_lexer": "ipython3",
   "version": "3.8.3-final"
  },
  "orig_nbformat": 2,
  "kernelspec": {
   "name": "python_defaultSpec_1600248877398",
   "display_name": "Python 3.8.3 64-bit ('base': conda)"
  }
 },
 "nbformat": 4,
 "nbformat_minor": 2,
 "cells": [
  {
   "cell_type": "code",
   "execution_count": 1,
   "metadata": {
    "tags": []
   },
   "outputs": [
    {
     "output_type": "stream",
     "name": "stdout",
     "text": "du spenderar 1200.0kr per månad på biljetter\ndet är värt dig att köpa månadskort\n"
    }
   ],
   "source": [
    "tal = float (input(\"hur många gånger per månad åger du med västtrafik?\"))\n",
    "m = 775\n",
    "e = 30\n",
    "krtot = tal*30\n",
    "\n",
    "\n",
    "print (f\"du spenderar {krtot}kr per månad på biljetter\")\n",
    "\n",
    "if krtot > m:\n",
    "    print (\"det är värt för dig att köpa månadskort\")\n",
    "\n",
    "if krtot < m:\n",
    "    print (\"det är inte värt dig att köpa månadskort\")"
   ]
  },
  {
   "cell_type": "code",
   "execution_count": null,
   "metadata": {},
   "outputs": [],
   "source": []
  }
 ]
}