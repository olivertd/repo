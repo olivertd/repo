{
 "metadata": {
  "language_info": {
   "codemirror_mode": {
    "name": "ipython",
    "version": 3
   },
   "file_extension": ".py",
   "mimetype": "text/x-python",
   "name": "python",
   "nbconvert_exporter": "python",
   "pygments_lexer": "ipython3",
   "version": "3.8.3-final"
  },
  "orig_nbformat": 2,
  "kernelspec": {
   "name": "python3",
   "display_name": "Python 3",
   "language": "python"
  }
 },
 "nbformat": 4,
 "nbformat_minor": 2,
 "cells": [
  {
   "cell_type": "code",
   "execution_count": 17,
   "metadata": {},
   "outputs": [
    {
     "output_type": "stream",
     "name": "stdout",
     "text": [
      "0\n1\n2\n3\n4\n"
     ]
    }
   ],
   "source": [
    "for i in range (5):\n",
    "    print (i)"
   ]
  },
  {
   "cell_type": "code",
   "execution_count": 25,
   "metadata": {},
   "outputs": [
    {
     "output_type": "stream",
     "name": "stdout",
     "text": [
      "0\n1\n2\n3\n4\n"
     ]
    }
   ],
   "source": [
    "for i in range (0,5):\n",
    "    print(i)"
   ]
  },
  {
   "cell_type": "code",
   "execution_count": 50,
   "metadata": {},
   "outputs": [
    {
     "output_type": "stream",
     "name": "stdout",
     "text": [
      "0\n3\n6\n9\n12\n"
     ]
    }
   ],
   "source": [
    "for i in range (0, 15, 3):\n",
    "    print(i)"
   ]
  },
  {
   "cell_type": "code",
   "execution_count": 32,
   "metadata": {},
   "outputs": [
    {
     "output_type": "stream",
     "name": "stdout",
     "text": [
      "0\n3\n6\n9\n12\nSumman av alla talen är 30\n"
     ]
    }
   ],
   "source": [
    "summa = 0\n",
    "for i in range (0, 15, 3):\n",
    "    print(i)\n",
    "    summa += i\n",
    "else:\n",
    "    print(\"Summan av alla talen är\", summa)"
   ]
  },
  {
   "cell_type": "code",
   "execution_count": 82,
   "metadata": {},
   "outputs": [
    {
     "output_type": "stream",
     "name": "stdout",
     "text": [
      "15\n13\n11\n9\n7\n5\n3\nSumman av alla talen är 63\n"
     ]
    }
   ],
   "source": [
    "summa = 0\n",
    "for i in range (15, 2, -2):\n",
    "    print(i)\n",
    "    summa += i\n",
    "print(\"Summan av alla talen är\", summa)"
   ]
  },
  {
   "cell_type": "code",
   "execution_count": 86,
   "metadata": {},
   "outputs": [
    {
     "output_type": "stream",
     "name": "stdout",
     "text": [
      "1\n3\n5\n7\n9\nSumman av alla talen är 25\n"
     ]
    }
   ],
   "source": [
    "summa = 0\n",
    "for i in range (1, 10, 2):\n",
    "    print(i)\n",
    "    summa += i\n",
    "print(\"Summan av alla talen är\", summa)"
   ]
  },
  {
   "cell_type": "code",
   "execution_count": 375,
   "metadata": {},
   "outputs": [
    {
     "output_type": "stream",
     "name": "stdout",
     "text": [
      "efter 15 år kommer det att finnas 15579.674166007651 kronor på kontot.\n"
     ]
    }
   ],
   "source": [
    "år = 15\n",
    "årp = år + 1\n",
    "startpeng = 10000\n",
    "for i in range (1,årp):\n",
    "    slutpeng = startpeng * 1.03**i\n",
    "\n",
    "print(\"efter\" + \" \" + str( år) + \" år kommer det att finnas \" + str(slutpeng) + \" kronor på kontot.\")"
   ]
  },
  {
   "cell_type": "code",
   "execution_count": 403,
   "metadata": {},
   "outputs": [
    {
     "output_type": "stream",
     "name": "stdout",
     "text": [
      "efter 12 år kommer det att finnas 14257.608868461793 kronor på kontot.\n"
     ]
    }
   ],
   "source": [
    "startpeng = int(input(\"Ange sparvärdet\"))\n",
    "\n",
    "år = int(input(\"Ange antalet år du ska spara i\"))\n",
    "årp = år + 1\n",
    "\n",
    "renta = float(input(\"Ange rentan i procent.\"))\n",
    "nyrent = renta/100 + 1\n",
    "\n",
    "for i in range (1,årp):\n",
    "    slutpeng = startpeng * nyrent**i\n",
    "\n",
    "print(\"efter\" + \" \" + str( år) + \" år kommer det att finnas \" + str(slutpeng) + \" kronor på kontot.\")"
   ]
  },
  {
   "cell_type": "code",
   "execution_count": null,
   "metadata": {},
   "outputs": [],
   "source": []
  }
 ]
}