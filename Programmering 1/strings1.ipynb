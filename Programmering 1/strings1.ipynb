{
 "metadata": {
  "language_info": {
   "codemirror_mode": {
    "name": "ipython",
    "version": 3
   },
   "file_extension": ".py",
   "mimetype": "text/x-python",
   "name": "python",
   "nbconvert_exporter": "python",
   "pygments_lexer": "ipython3",
   "version": "3.8.3-final"
  },
  "orig_nbformat": 2,
  "kernelspec": {
   "name": "Python 3.8.3 64-bit ('otalc': virtualenv)",
   "display_name": "Python 3.8.3 64-bit ('otalc': virtualenv)",
   "metadata": {
    "interpreter": {
     "hash": "2b672825f39ae8191e3b39fa431057e1d724d85b7f22f3f889d039e0f5a02455"
    }
   }
  }
 },
 "nbformat": 4,
 "nbformat_minor": 2,
 "cells": [
  {
   "cell_type": "code",
   "execution_count": 23,
   "metadata": {},
   "outputs": [
    {
     "output_type": "stream",
     "name": "stdout",
     "text": [
      "8 bokstäver finns i namnet HALÖLÖ Å\n"
     ]
    }
   ],
   "source": [
    "# Användaren får inputta sitt namn\n",
    "x = input(\"namn\")\n",
    "\n",
    "#Printar ut antalet bokstäver i namnet via len plus namnet och lite extra text\n",
    "print(str(len(x)) + \" \" + \"bokstäver finns i namnet\" + \" \" +  x)"
   ]
  },
  {
   "cell_type": "code",
   "execution_count": 35,
   "metadata": {},
   "outputs": [
    {
     "output_type": "stream",
     "name": "stdout",
     "text": [
      "15 är antalet ord i meningen\n"
     ]
    }
   ],
   "source": [
    "#Gör en variabel med meningen\n",
    "x = \"en bild säger mer än tusen ord, en matematisk formel säger mer än tusen bilder\"\n",
    "\n",
    "#använder mig av split för att dela upp stringen i ord\n",
    "antal = x.split(\" \")\n",
    "\n",
    "#printar ut antalet ord med len och sedan min text\n",
    "print(f\"{len(antal)} är antalet ord i meningen\")"
   ]
  },
  {
   "cell_type": "code",
   "execution_count": 40,
   "metadata": {},
   "outputs": [
    {
     "output_type": "stream",
     "name": "stdout",
     "text": [
      "Ditt ord är inte ett palindrom\n"
     ]
    }
   ],
   "source": [
    "#Gör en variabel där användaren får skriva in sitt ord\n",
    "ord = input(\"Vänligen skriv ditt ord\")\n",
    "\n",
    "#gör en if sats som checkar ifall ordet är en palindrom eller inte och printar ut rätt text ifall det är en eller inte är ett palindrom\n",
    "if ord == (ord[::-1]):\n",
    "    print(\"ditt ord är ett palindrom\")\n",
    "else:\n",
    "    print(\"Ditt ord är inte ett palindrom\")"
   ]
  },
  {
   "cell_type": "code",
   "execution_count": 43,
   "metadata": {},
   "outputs": [
    {
     "output_type": "stream",
     "name": "stdout",
     "text": [
      "ditt ord är ett palindrom\n"
     ]
    }
   ],
   "source": [
    "#importerar re\n",
    "import re\n",
    "\n",
    "#Gör en variabel där användaren får skriva in sitt ord\n",
    "ord = input(\"Vänligen skriv ditt ord\")\n",
    "\n",
    "#resplit\n",
    "nosplit = re.split(',| |', ord)\n",
    "#lägga ihop listan till en string\n",
    "ord = ''.join(map(str, nosplit))\n",
    "\n",
    "#gör en if sats som checkar ifall ordet är en palindrom eller inte och printar ut rätt text ifall det är en eller inte är ett palindrom\n",
    "if ord == (ord[::-1]):\n",
    "    print(\"ditt ord är ett palindrom\")\n",
    "else:\n",
    "    print(\"Ditt ord är inte ett palindrom\")"
   ]
  },
  {
   "cell_type": "code",
   "execution_count": null,
   "metadata": {},
   "outputs": [],
   "source": []
  }
 ]
}